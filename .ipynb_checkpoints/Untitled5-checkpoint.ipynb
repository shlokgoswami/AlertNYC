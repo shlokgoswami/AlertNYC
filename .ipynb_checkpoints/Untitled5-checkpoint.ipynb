{
 "cells": [
  {
   "cell_type": "code",
   "execution_count": 1,
   "metadata": {
    "colab": {
     "base_uri": "https://localhost:8080/"
    },
    "id": "ULBKI7qbbwes",
    "outputId": "c6171fe3-d0af-47de-916c-7bf45048d03d"
   },
   "outputs": [
    {
     "name": "stdout",
     "output_type": "stream",
     "text": [
      "Requirement already satisfied: pyspark in /Users/utsavpatel/anaconda3/lib/python3.10/site-packages (3.4.0)\n",
      "Requirement already satisfied: py4j==0.10.9.7 in /Users/utsavpatel/anaconda3/lib/python3.10/site-packages (from pyspark) (0.10.9.7)\n",
      "Requirement already satisfied: pymongo in /Users/utsavpatel/anaconda3/lib/python3.10/site-packages (4.3.3)\n",
      "Requirement already satisfied: dnspython<3.0.0,>=1.16.0 in /Users/utsavpatel/anaconda3/lib/python3.10/site-packages (from pymongo) (2.3.0)\n",
      "Requirement already satisfied: pandas in /Users/utsavpatel/anaconda3/lib/python3.10/site-packages (1.5.3)\n",
      "Requirement already satisfied: python-dateutil>=2.8.1 in /Users/utsavpatel/anaconda3/lib/python3.10/site-packages (from pandas) (2.8.2)\n",
      "Requirement already satisfied: pytz>=2020.1 in /Users/utsavpatel/anaconda3/lib/python3.10/site-packages (from pandas) (2022.7)\n",
      "Requirement already satisfied: numpy>=1.21.0 in /Users/utsavpatel/anaconda3/lib/python3.10/site-packages (from pandas) (1.23.5)\n",
      "Requirement already satisfied: six>=1.5 in /Users/utsavpatel/anaconda3/lib/python3.10/site-packages (from python-dateutil>=2.8.1->pandas) (1.16.0)\n",
      "Collecting geopy\n",
      "  Downloading geopy-2.3.0-py3-none-any.whl (119 kB)\n",
      "\u001b[2K     \u001b[90m━━━━━━━━━━━━━━━━━━━━━━━━━━━━━━━━━━━━━━━\u001b[0m \u001b[32m119.8/119.8 kB\u001b[0m \u001b[31m3.3 MB/s\u001b[0m eta \u001b[36m0:00:00\u001b[0m\n",
      "\u001b[?25hCollecting geographiclib<3,>=1.52\n",
      "  Downloading geographiclib-2.0-py3-none-any.whl (40 kB)\n",
      "\u001b[2K     \u001b[90m━━━━━━━━━━━━━━━━━━━━━━━━━━━━━━━━━━━━━━━━\u001b[0m \u001b[32m40.3/40.3 kB\u001b[0m \u001b[31m4.1 MB/s\u001b[0m eta \u001b[36m0:00:00\u001b[0m\n",
      "\u001b[?25hInstalling collected packages: geographiclib, geopy\n",
      "Successfully installed geographiclib-2.0 geopy-2.3.0\n",
      "Requirement already satisfied: folium in /Users/utsavpatel/anaconda3/lib/python3.10/site-packages (0.14.0)\n",
      "Requirement already satisfied: jinja2>=2.9 in /Users/utsavpatel/anaconda3/lib/python3.10/site-packages (from folium) (3.1.2)\n",
      "Requirement already satisfied: branca>=0.6.0 in /Users/utsavpatel/anaconda3/lib/python3.10/site-packages (from folium) (0.6.0)\n",
      "Requirement already satisfied: numpy in /Users/utsavpatel/anaconda3/lib/python3.10/site-packages (from folium) (1.23.5)\n",
      "Requirement already satisfied: requests in /Users/utsavpatel/anaconda3/lib/python3.10/site-packages (from folium) (2.28.1)\n",
      "Requirement already satisfied: MarkupSafe>=2.0 in /Users/utsavpatel/anaconda3/lib/python3.10/site-packages (from jinja2>=2.9->folium) (2.1.1)\n",
      "Requirement already satisfied: charset-normalizer<3,>=2 in /Users/utsavpatel/anaconda3/lib/python3.10/site-packages (from requests->folium) (2.0.4)\n",
      "Requirement already satisfied: urllib3<1.27,>=1.21.1 in /Users/utsavpatel/anaconda3/lib/python3.10/site-packages (from requests->folium) (1.26.14)\n",
      "Requirement already satisfied: certifi>=2017.4.17 in /Users/utsavpatel/anaconda3/lib/python3.10/site-packages (from requests->folium) (2022.12.7)\n",
      "Requirement already satisfied: idna<4,>=2.5 in /Users/utsavpatel/anaconda3/lib/python3.10/site-packages (from requests->folium) (3.4)\n",
      "Collecting haversine\n",
      "  Downloading haversine-2.8.0-py2.py3-none-any.whl (7.7 kB)\n",
      "Installing collected packages: haversine\n",
      "Successfully installed haversine-2.8.0\n"
     ]
    }
   ],
   "source": [
    "!pip install pyspark\n",
    "!pip install pymongo\n",
    "!pip install pandas\n",
    "!pip install geopy\n",
    "!pip install folium\n",
    "!pip install haversine"
   ]
  },
  {
   "cell_type": "markdown",
   "metadata": {
    "colab": {
     "base_uri": "https://localhost:8080/"
    },
    "id": "LD_cwyStb-l-",
    "outputId": "23313776-9cf8-4345-daef-e6e537d2c05c"
   },
   "source": [
    "# from google.colab import drive\n",
    "\n",
    "# # mount your Google Drive to Colab\n",
    "# drive.mount('/content/drive')\n"
   ]
  },
  {
   "cell_type": "code",
   "execution_count": 2,
   "metadata": {
    "colab": {
     "base_uri": "https://localhost:8080/"
    },
    "id": "Z-dLxeZrcl_u",
    "outputId": "430940c1-0d73-41ab-a26c-8629f99b59af"
   },
   "outputs": [
    {
     "name": "stderr",
     "output_type": "stream",
     "text": [
      "23/05/07 15:21:21 WARN Utils: Your hostname, Utsavs-MacBook-Air.local resolves to a loopback address: 127.0.0.1; using 192.168.3.22 instead (on interface en0)\n",
      "23/05/07 15:21:21 WARN Utils: Set SPARK_LOCAL_IP if you need to bind to another address\n",
      "Setting default log level to \"WARN\".\n",
      "To adjust logging level use sc.setLogLevel(newLevel). For SparkR, use setLogLevel(newLevel).\n",
      "23/05/07 15:21:22 WARN NativeCodeLoader: Unable to load native-hadoop library for your platform... using builtin-java classes where applicable\n",
      "23/05/07 15:22:05 WARN package: Truncated the string representation of a plan since it was too large. This behavior can be adjusted by setting 'spark.sql.debug.maxToStringFields'.\n"
     ]
    },
    {
     "name": "stdout",
     "output_type": "stream",
     "text": [
      "+----------+------------+-------------------+------------+------------+-----------+----------+-----+--------------------+-----+--------------------+----------------+-----------+-------------+-----------------+----------------+----------------+-----------------+--------+----------+-----------+----------+----------+--------------+---------+--------+----------------+------------------+------------------+--------------------+--------------------+------------+-------------+--------------+-------+\n",
      "|CMPLNT_NUM|CMPLNT_FR_DT|       CMPLNT_FR_TM|CMPLNT_TO_DT|CMPLNT_TO_TM|ADDR_PCT_CD|    RPT_DT|KY_CD|           OFNS_DESC|PD_CD|             PD_DESC|CRM_ATPT_CPTD_CD| LAW_CAT_CD|      BORO_NM|LOC_OF_OCCUR_DESC|   PREM_TYP_DESC|      JURIS_DESC|JURISDICTION_CODE|PARKS_NM|HADEVELOPT|HOUSING_PSA|X_COORD_CD|Y_COORD_CD|SUSP_AGE_GROUP|SUSP_RACE|SUSP_SEX|TRANSIT_DISTRICT|          Latitude|         Longitude|             Lat_Lon|         PATROL_BORO|STATION_NAME|VIC_AGE_GROUP|      VIC_RACE|VIC_SEX|\n",
      "+----------+------------+-------------------+------------+------------+-----------+----------+-----+--------------------+-----+--------------------+----------------+-----------+-------------+-----------------+----------------+----------------+-----------------+--------+----------+-----------+----------+----------+--------------+---------+--------+----------------+------------------+------------------+--------------------+--------------------+------------+-------------+--------------+-------+\n",
      "| 469069650|  09/04/2019|2023-05-07 09:00:00|  09/04/2019|    10:00:00|          9|09/04/2019|  341|       PETIT LARCENY|  321|LARCENY,PETIT FRO...|       COMPLETED|MISDEMEANOR|    MANHATTAN|          REAR OF|            null|N.Y. POLICE DEPT|                0|    null|      null|       null|    989667|    203049|          null|     null|    null|            null|40.724005870000035|-73.98045825599996|(40.7240058700000...|PATROL BORO MAN S...|        null|        25-44|         BLACK|      F|\n",
      "| 629841380|  08/31/2019|2023-05-07 18:58:00|  08/31/2019|    19:03:00|         50|08/31/2019|  341|       PETIT LARCENY|  343|LARCENY,PETIT OF ...|       COMPLETED|MISDEMEANOR|        BRONX|         FRONT OF|          STREET|N.Y. POLICE DEPT|                0|    null|      null|       null|   1007013|    260060|          null|     null|    null|            null| 40.88045772900006|-73.91768494199994|(40.8804577290000...|   PATROL BORO BRONX|        null|        45-64|       UNKNOWN|      M|\n",
      "| 165264814|  08/31/2014|2023-05-07 14:15:00|        null|        null|         68|08/31/2014|  235|     DANGEROUS DRUGS|  511|CONTROLLED SUBSTA...|       COMPLETED|MISDEMEANOR|     BROOKLYN|             null|          STREET|N.Y. POLICE DEPT|                0|    null|      null|         NA|    978166|    171513|          null|     null|    null|            null|      40.637446268|     -74.021922532|(40.637446268, -7...|PATROL BORO BKLYN...|        null|         null|       UNKNOWN|      E|\n",
      "| 224389328|  09/07/2019|2023-05-07 22:00:00|  09/07/2019|    22:02:00|         19|09/07/2019|  341|       PETIT LARCENY|  333|LARCENY,PETIT FRO...|       COMPLETED|MISDEMEANOR|    MANHATTAN|           INSIDE|     CHAIN STORE|N.Y. POLICE DEPT|                0|    null|      null|       null|    994570|    217188|       UNKNOWN|    BLACK|       M|            null| 40.76280953700007|-73.96274775799998|(40.7628095370000...|PATROL BORO MAN N...|        null|      UNKNOWN|       UNKNOWN|      D|\n",
      "| 303540290|  02/05/2015|2023-05-07 13:55:00|  02/05/2015|    14:20:00|         79|02/05/2015|  107|            BURGLARY|  231|  BURGLARY,TRUCK DAY|       COMPLETED|     FELONY|     BROOKLYN|      OPPOSITE OF|          STREET|N.Y. POLICE DEPT|                0|    null|      null|         NA|   1001063|    186966|          null|  UNKNOWN|       U|            null|       40.67984749|     -73.939384473|(40.67984749, -73...|PATROL BORO BKLYN...|        null|         null|       UNKNOWN|      D|\n",
      "| 323600093|  06/10/2010|2023-05-07 21:30:00|  07/12/2010|    14:06:00|         42|07/12/2010|  344|ASSAULT 3 & RELAT...|  101|           ASSAULT 3|       COMPLETED|MISDEMEANOR|        BRONX|             null| PARK/PLAYGROUND|N.Y. POLICE DEPT|                0|      NA|      null|         NA|   1012821|    242896|         25-44|    BLACK|       M|            null|      40.833330819|     -73.896754982|(40.833330819, -7...|   PATROL BORO BRONX|        null|        25-44|         BLACK|      F|\n",
      "| 127502656|  07/26/2011|2023-05-07 05:07:00|        null|        null|        113|07/26/2011|  114|               ARSON|  264|ARSON, MOTOR VEHI...|       COMPLETED|     FELONY|       QUEENS|         FRONT OF|          STREET|           OTHER|               97|      NA|      null|         NA|   1041810|    190671|          null|     null|    null|            null|      40.689845669|     -73.792445446|(40.689845669, -7...|PATROL BORO QUEEN...|        null|        25-44|         BLACK|      M|\n",
      "| 211921838|  08/31/2019|2023-05-07 18:00:00|        null|        null|         71|09/05/2019|  341|       PETIT LARCENY|  321|LARCENY,PETIT FRO...|       COMPLETED|MISDEMEANOR|     BROOKLYN|             null|          STREET|N.Y. POLICE DEPT|                0|    null|      null|       null|   1001797|    182700|          null|     null|    null|            null| 40.66813685500005|-73.93674924299995|(40.6681368550000...|PATROL BORO BKLYN...|        null|        45-64|         BLACK|      F|\n",
      "| 381754893|  09/07/2019|2023-05-07 13:00:00|        null|        null|         62|09/07/2019|  351|CRIMINAL MISCHIEF...|  258|CRIMINAL MISCHIEF...|       COMPLETED|MISDEMEANOR|     BROOKLYN|             null|           OTHER|N.Y. POLICE DEPT|                0|    null|      null|       null|    988323|    160590|          null|     null|    null|            null| 40.60746606400005|-73.98533271799994|(40.6074660640000...|PATROL BORO BKLYN...|        null|      UNKNOWN|       UNKNOWN|      E|\n",
      "| 400554912|  09/08/2019|2023-05-07 20:00:00|  09/09/2019|    06:00:00|         68|09/09/2019|  341|       PETIT LARCENY|  321|LARCENY,PETIT FRO...|       COMPLETED|MISDEMEANOR|     BROOKLYN|             null|          STREET|N.Y. POLICE DEPT|                0|    null|      null|       null|    978011|    171336|          null|     null|    null|            null| 40.63696033300005|-74.02248084499998|(40.6369603330000...|PATROL BORO BKLYN...|        null|        45-64|WHITE HISPANIC|      M|\n",
      "| 758439045|  08/23/2019|2023-05-07 08:51:00|        null|        null|        123|08/25/2019|  106|      FELONY ASSAULT|  105|   STRANGULATION 1ST|       COMPLETED|     FELONY|STATEN ISLAND|           INSIDE| RESIDENCE-HOUSE|N.Y. POLICE DEPT|                0|    null|      null|       null|    923314|    134865|         25-44|    WHITE|       M|            null| 40.53664759100008|-74.21922731499996|(40.5366475910000...|PATROL BORO STATE...|        null|        25-44|         WHITE|      F|\n",
      "| 601728065|  08/23/2019|2023-05-07 23:15:00|  08/24/2019|    15:00:00|         50|08/24/2019|  341|       PETIT LARCENY|  321|LARCENY,PETIT FRO...|       COMPLETED|MISDEMEANOR|        BRONX|         FRONT OF|          STREET|N.Y. POLICE DEPT|                0|    null|      null|       null|   1012722|    269494|          null|     null|    null|            null|40.906334482000034|-73.89699971999994|(40.9063344820000...|   PATROL BORO BRONX|        null|        25-44|         WHITE|      M|\n",
      "| 106129071|  06/28/2006|2023-05-07 23:10:00|        null|        null|         43|06/29/2006|  118|   DANGEROUS WEAPONS|  793|WEAPONS POSSESSION 3|       COMPLETED|     FELONY|        BRONX|         FRONT OF|          STREET|N.Y. POLICE DEPT|                0|      NA|      null|         NA|   1018694|    239982|          null|     null|    null|            null|      40.825311778|     -73.875546821|(40.825311778, -7...|   PATROL BORO BRONX|        null|         null|       UNKNOWN|      E|\n",
      "| 952317339|  09/09/2019|2023-05-07 10:30:00|        null|        null|         50|09/09/2019|  117|     DANGEROUS DRUGS|  503|CONTROLLED SUBSTA...|       COMPLETED|     FELONY|        BRONX|           INSIDE|STORAGE FACILITY|N.Y. POLICE DEPT|                0|    null|      null|       null|   1009957|    258885|         25-44|    BLACK|       M|            null|40.877224636000044|-73.90704324199999|(40.8772246360000...|   PATROL BORO BRONX|        null|      UNKNOWN|       UNKNOWN|      E|\n",
      "| 156712639|  11/08/2016|2023-05-07 17:20:00|        null|        null|         84|11/08/2016|  341|       PETIT LARCENY|  338|LARCENY,PETIT FRO...|       COMPLETED|MISDEMEANOR|     BROOKLYN|           INSIDE|            null|N.Y. POLICE DEPT|                0|    null|      null|         NA|    987818|    192663|          null|     null|    null|            null|      40.695499696|      -73.98713449|(40.695499696, -7...|PATROL BORO BKLYN...|        null|        18-24|         BLACK|      M|\n",
      "| 913107294|  08/30/2019|2023-05-07 18:00:00|  08/30/2019|    20:30:00|        108|09/04/2019|  341|       PETIT LARCENY|  349|LARCENY,PETIT OF ...|       COMPLETED|MISDEMEANOR|       QUEENS|             null|          STREET|N.Y. POLICE DEPT|                0|    null|      null|       null|   1002556|    209933|          null|     null|    null|            null|40.742883474000045|-73.93393922399997|(40.7428834740000...|PATROL BORO QUEEN...|        null|      UNKNOWN|       UNKNOWN|      D|\n",
      "| 751236093|  06/19/2013|2023-05-07 16:30:00|        null|        null|         40|06/19/2013|  118|   DANGEROUS WEAPONS|  793|WEAPONS POSSESSION 3|       COMPLETED|     FELONY|        BRONX|             null|          STREET|N.Y. POLICE DEPT|                0|      NA|      null|         NA|   1004972|    234409|          null|     null|    null|            null|       40.81005831|     -73.925144953|(40.81005831, -73...|   PATROL BORO BRONX|        null|         null|       UNKNOWN|      E|\n",
      "| 936138537|  07/20/2014|2023-05-07 03:35:00|        null|        null|         14|07/20/2014|  347|INTOXICATED & IMP...|  905|INTOXICATED DRIVI...|       COMPLETED|MISDEMEANOR|    MANHATTAN|             null|          STREET|N.Y. POLICE DEPT|                0|    null|      null|         NA|    988712|    211239|          null|     null|    null|            null|      40.746485937|     -73.983898228|(40.746485937, -7...|PATROL BORO MAN S...|        null|         null|       UNKNOWN|      E|\n",
      "| 212455683|  08/27/2019|2023-05-07 06:00:00|  08/28/2019|    06:30:00|         45|08/28/2019|  341|       PETIT LARCENY|  321|LARCENY,PETIT FRO...|       COMPLETED|MISDEMEANOR|        BRONX|          REAR OF|          STREET|N.Y. POLICE DEPT|                0|    null|      null|       null|   1027350|    245455|          null|     null|    null|            null| 40.84029557200005|-73.84423546299998|(40.8402955720000...|   PATROL BORO BRONX|        null|        25-44|WHITE HISPANIC|      F|\n",
      "| 640578023|  08/09/2009|2023-05-07 01:00:00|        null|        null|         77|08/09/2009|  118|   DANGEROUS WEAPONS|  792|WEAPONS POSSESSIO...|       COMPLETED|     FELONY|     BROOKLYN|             null|          STREET|N.Y. POLICE DEPT|                0|      NA|      null|         NA|   1003427|    183920|          null|     null|    null|            null|      40.671482101|     -73.930870065|(40.671482101, -7...|PATROL BORO BKLYN...|        null|         null|       UNKNOWN|      E|\n",
      "+----------+------------+-------------------+------------+------------+-----------+----------+-----+--------------------+-----+--------------------+----------------+-----------+-------------+-----------------+----------------+----------------+-----------------+--------+----------+-----------+----------+----------+--------------+---------+--------+----------------+------------------+------------------+--------------------+--------------------+------------+-------------+--------------+-------+\n",
      "only showing top 20 rows\n",
      "\n"
     ]
    },
    {
     "name": "stderr",
     "output_type": "stream",
     "text": [
      "\r",
      "[Stage 3:>                                                          (0 + 1) / 1]\r"
     ]
    },
    {
     "name": "stdout",
     "output_type": "stream",
     "text": [
      "+---------+------------------+------------------+------------------+\n",
      "|  Borough|      Neighborhood|          Latitude|         Longitude|\n",
      "+---------+------------------+------------------+------------------+\n",
      "|    Bronx|         Wakefield|    40.89470517661|-73.84720052054902|\n",
      "|    Bronx|        Co-op City| 40.87429419303012|-73.82993910812398|\n",
      "|    Bronx|       Eastchester|40.887555677350775|-73.82780644716412|\n",
      "|    Bronx|         Fieldston| 40.89543742690383|-73.90564259591682|\n",
      "|    Bronx|         Riverdale|40.890834493891305| -73.9125854610857|\n",
      "|    Bronx|       Kingsbridge| 40.88168737120521|-73.90281798724604|\n",
      "|Manhattan|       Marble Hill| 40.87655077879964|-73.91065965862981|\n",
      "|    Bronx|          Woodlawn| 40.89827261213805|-73.86731496814176|\n",
      "|    Bronx|           Norwood| 40.87722415599446| -73.8793907395681|\n",
      "|    Bronx|    Williamsbridge| 40.88103887819211|-73.85744642974207|\n",
      "|    Bronx|        Baychester|40.866858107252696|-73.83579759808117|\n",
      "|    Bronx|    Pelham Parkway| 40.85741349808865|-73.85475564017999|\n",
      "|    Bronx|       City Island| 40.84724670491813|-73.78648845267413|\n",
      "|    Bronx|      Bedford Park|40.870185164975325| -73.8855121841913|\n",
      "|    Bronx|University Heights| 40.85572707719664| -73.9104159619131|\n",
      "|    Bronx|    Morris Heights| 40.84789792606271|-73.91967159119565|\n",
      "|    Bronx|           Fordham| 40.86099679638654|-73.89642655981623|\n",
      "|    Bronx|      East Tremont| 40.84269615786053|-73.88735617532338|\n",
      "|    Bronx|        West Farms| 40.83947505672653|-73.87774474910545|\n",
      "|    Bronx|      High  Bridge|40.836623010706056| -73.9261020935813|\n",
      "+---------+------------------+------------------+------------------+\n",
      "only showing top 20 rows\n",
      "\n"
     ]
    },
    {
     "name": "stderr",
     "output_type": "stream",
     "text": [
      "\r",
      "                                                                                \r"
     ]
    }
   ],
   "source": [
    "from pyspark.sql import SparkSession\n",
    "from pyspark import SparkConf\n",
    "\n",
    "# create a SparkSession\n",
    "conf = SparkConf().set(\"spark.network.timeout\", \"600s\")\n",
    "\n",
    "spark = SparkSession.builder.appName(\"NYPD\").config(conf=conf).getOrCreate()\n",
    "# load the NYPD Complaints dataset into a Spark DataFrame\n",
    "complaintsDF = spark.read.csv(\"NYPD_Complaint_Data_Historic.csv\", header=True, inferSchema=True)\n",
    "\n",
    "# download the JSON file using requests library\n",
    "import requests\n",
    "url = 'https://cocl.us/new_york_dataset'\n",
    "response = requests.get(url)\n",
    "newyork_data = response.json()\n",
    "\n",
    "# extract neighborhoods data\n",
    "neighborhoods_data = newyork_data['features']\n",
    "\n",
    "# create a list of dictionaries to store the data\n",
    "neighborhoods_list = []\n",
    "\n",
    "# populate list with neighborhoods data\n",
    "for data in neighborhoods_data:\n",
    "    borough = data['properties']['borough']\n",
    "    neighborhood_name = data['properties']['name']\n",
    "    neighborhood_lat = data['geometry']['coordinates'][1]\n",
    "    neighborhood_lon = data['geometry']['coordinates'][0]\n",
    "    neighborhoods_list.append({'Borough': borough,\n",
    "                               'Neighborhood': neighborhood_name,\n",
    "                               'Latitude': neighborhood_lat,\n",
    "                               'Longitude': neighborhood_lon})\n",
    "\n",
    "# create a DataFrame from the list of dictionaries\n",
    "from pyspark.sql.types import StructType, StructField, StringType, DoubleType\n",
    "schema = StructType([\n",
    "    StructField('Borough', StringType(), True),\n",
    "    StructField('Neighborhood', StringType(), True),\n",
    "    StructField('Latitude', DoubleType(), True),\n",
    "    StructField('Longitude', DoubleType(), True)\n",
    "])\n",
    "neighborhoodsDF = spark.createDataFrame(neighborhoods_list, schema=schema)\n",
    "\n",
    "# show the dataframes\n",
    "complaintsDF.show()\n",
    "neighborhoodsDF.show()\n"
   ]
  },
  {
   "cell_type": "code",
   "execution_count": 3,
   "metadata": {
    "colab": {
     "base_uri": "https://localhost:8080/"
    },
    "id": "WvUQB62vcmCe",
    "outputId": "83bafb40-e5ab-40fe-8fbf-8b04d9f74027"
   },
   "outputs": [
    {
     "name": "stderr",
     "output_type": "stream",
     "text": [
      "                                                                                \r"
     ]
    },
    {
     "name": "stdout",
     "output_type": "stream",
     "text": [
      "+----------+------------+-------------------+------------+------------+-----------+----------+-----+-------------+-----+--------------------+----------------+-----------+-------+-----------------+-------------+----------------+-----------------+--------+----------+-----------+----------+----------+--------------+---------+--------+----------------+-----------------+------------------+--------------------+-----------------+------------+-------------+--------+-------+-------+-------------------+------------------+------------------+\n",
      "|CMPLNT_NUM|CMPLNT_FR_DT|       CMPLNT_FR_TM|CMPLNT_TO_DT|CMPLNT_TO_TM|ADDR_PCT_CD|    RPT_DT|KY_CD|    OFNS_DESC|PD_CD|             PD_DESC|CRM_ATPT_CPTD_CD| LAW_CAT_CD|BORO_NM|LOC_OF_OCCUR_DESC|PREM_TYP_DESC|      JURIS_DESC|JURISDICTION_CODE|PARKS_NM|HADEVELOPT|HOUSING_PSA|X_COORD_CD|Y_COORD_CD|SUSP_AGE_GROUP|SUSP_RACE|SUSP_SEX|TRANSIT_DISTRICT|         Latitude|         Longitude|             Lat_Lon|      PATROL_BORO|STATION_NAME|VIC_AGE_GROUP|VIC_RACE|VIC_SEX|Borough|       Neighborhood|         NLatitude|        NLongitude|\n",
      "+----------+------------+-------------------+------------+------------+-----------+----------+-----+-------------+-----+--------------------+----------------+-----------+-------+-----------------+-------------+----------------+-----------------+--------+----------+-----------+----------+----------+--------------+---------+--------+----------------+-----------------+------------------+--------------------+-----------------+------------+-------------+--------+-------+-------+-------------------+------------------+------------------+\n",
      "| 629841380|  08/31/2019|2023-05-07 18:58:00|  08/31/2019|    19:03:00|         50|08/31/2019|  341|PETIT LARCENY|  343|LARCENY,PETIT OF ...|       COMPLETED|MISDEMEANOR|  BRONX|         FRONT OF|       STREET|N.Y. POLICE DEPT|                0|    null|      null|       null|   1007013|    260060|          null|     null|    null|            null|40.88045772900006|-73.91768494199994|(40.8804577290000...|PATROL BORO BRONX|        null|        45-64| UNKNOWN|      M|  Bronx|Kingsbridge Heights|  40.8703923914147|-73.90152264513144|\n",
      "| 629841380|  08/31/2019|2023-05-07 18:58:00|  08/31/2019|    19:03:00|         50|08/31/2019|  341|PETIT LARCENY|  343|LARCENY,PETIT OF ...|       COMPLETED|MISDEMEANOR|  BRONX|         FRONT OF|       STREET|N.Y. POLICE DEPT|                0|    null|      null|       null|   1007013|    260060|          null|     null|    null|            null|40.88045772900006|-73.91768494199994|(40.8804577290000...|PATROL BORO BRONX|        null|        45-64| UNKNOWN|      M|  Bronx|           Allerton| 40.86578787802982|-73.85931863221647|\n",
      "| 629841380|  08/31/2019|2023-05-07 18:58:00|  08/31/2019|    19:03:00|         50|08/31/2019|  341|PETIT LARCENY|  343|LARCENY,PETIT OF ...|       COMPLETED|MISDEMEANOR|  BRONX|         FRONT OF|       STREET|N.Y. POLICE DEPT|                0|    null|      null|       null|   1007013|    260060|          null|     null|    null|            null|40.88045772900006|-73.91768494199994|(40.8804577290000...|PATROL BORO BRONX|        null|        45-64| UNKNOWN|      M|  Bronx|          Bronxdale| 40.85272297633017|-73.86172577555115|\n",
      "| 629841380|  08/31/2019|2023-05-07 18:58:00|  08/31/2019|    19:03:00|         50|08/31/2019|  341|PETIT LARCENY|  343|LARCENY,PETIT OF ...|       COMPLETED|MISDEMEANOR|  BRONX|         FRONT OF|       STREET|N.Y. POLICE DEPT|                0|    null|      null|       null|   1007013|    260060|          null|     null|    null|            null|40.88045772900006|-73.91768494199994|(40.8804577290000...|PATROL BORO BRONX|        null|        45-64| UNKNOWN|      M|  Bronx|         Mount Hope| 40.84884160724665|-73.90829930881988|\n",
      "| 629841380|  08/31/2019|2023-05-07 18:58:00|  08/31/2019|    19:03:00|         50|08/31/2019|  341|PETIT LARCENY|  343|LARCENY,PETIT OF ...|       COMPLETED|MISDEMEANOR|  BRONX|         FRONT OF|       STREET|N.Y. POLICE DEPT|                0|    null|      null|       null|   1007013|    260060|          null|     null|    null|            null|40.88045772900006|-73.91768494199994|(40.8804577290000...|PATROL BORO BRONX|        null|        45-64| UNKNOWN|      M|  Bronx|         Mount Eden| 40.84382617671654|-73.91655551964419|\n",
      "| 629841380|  08/31/2019|2023-05-07 18:58:00|  08/31/2019|    19:03:00|         50|08/31/2019|  341|PETIT LARCENY|  343|LARCENY,PETIT OF ...|       COMPLETED|MISDEMEANOR|  BRONX|         FRONT OF|       STREET|N.Y. POLICE DEPT|                0|    null|      null|       null|   1007013|    260060|          null|     null|    null|            null|40.88045772900006|-73.91768494199994|(40.8804577290000...|PATROL BORO BRONX|        null|        45-64| UNKNOWN|      M|  Bronx|  Concourse Village|40.824780490842905|-73.91584652759009|\n",
      "| 629841380|  08/31/2019|2023-05-07 18:58:00|  08/31/2019|    19:03:00|         50|08/31/2019|  341|PETIT LARCENY|  343|LARCENY,PETIT OF ...|       COMPLETED|MISDEMEANOR|  BRONX|         FRONT OF|       STREET|N.Y. POLICE DEPT|                0|    null|      null|       null|   1007013|    260060|          null|     null|    null|            null|40.88045772900006|-73.91768494199994|(40.8804577290000...|PATROL BORO BRONX|        null|        45-64| UNKNOWN|      M|  Bronx|  Claremont Village| 40.83142834161548|-73.90119903387667|\n",
      "| 629841380|  08/31/2019|2023-05-07 18:58:00|  08/31/2019|    19:03:00|         50|08/31/2019|  341|PETIT LARCENY|  343|LARCENY,PETIT OF ...|       COMPLETED|MISDEMEANOR|  BRONX|         FRONT OF|       STREET|N.Y. POLICE DEPT|                0|    null|      null|       null|   1007013|    260060|          null|     null|    null|            null|40.88045772900006|-73.91768494199994|(40.8804577290000...|PATROL BORO BRONX|        null|        45-64| UNKNOWN|      M|  Bronx|           Edenwald| 40.88456130303732|-73.84808271877168|\n",
      "| 629841380|  08/31/2019|2023-05-07 18:58:00|  08/31/2019|    19:03:00|         50|08/31/2019|  341|PETIT LARCENY|  343|LARCENY,PETIT OF ...|       COMPLETED|MISDEMEANOR|  BRONX|         FRONT OF|       STREET|N.Y. POLICE DEPT|                0|    null|      null|       null|   1007013|    260060|          null|     null|    null|            null|40.88045772900006|-73.91768494199994|(40.8804577290000...|PATROL BORO BRONX|        null|        45-64| UNKNOWN|      M|  Bronx|          Unionport| 40.82977429787161|-73.85053524451935|\n",
      "| 629841380|  08/31/2019|2023-05-07 18:58:00|  08/31/2019|    19:03:00|         50|08/31/2019|  341|PETIT LARCENY|  343|LARCENY,PETIT OF ...|       COMPLETED|MISDEMEANOR|  BRONX|         FRONT OF|       STREET|N.Y. POLICE DEPT|                0|    null|      null|       null|   1007013|    260060|          null|     null|    null|            null|40.88045772900006|-73.91768494199994|(40.8804577290000...|PATROL BORO BRONX|        null|        45-64| UNKNOWN|      M|  Bronx|          Concourse| 40.83428380733851|-73.91558941773444|\n",
      "| 629841380|  08/31/2019|2023-05-07 18:58:00|  08/31/2019|    19:03:00|         50|08/31/2019|  341|PETIT LARCENY|  343|LARCENY,PETIT OF ...|       COMPLETED|MISDEMEANOR|  BRONX|         FRONT OF|       STREET|N.Y. POLICE DEPT|                0|    null|      null|       null|   1007013|    260060|          null|     null|    null|            null|40.88045772900006|-73.91768494199994|(40.8804577290000...|PATROL BORO BRONX|        null|        45-64| UNKNOWN|      M|  Bronx|     Pelham Gardens| 40.86296562477998|-73.84161194831223|\n",
      "| 629841380|  08/31/2019|2023-05-07 18:58:00|  08/31/2019|    19:03:00|         50|08/31/2019|  341|PETIT LARCENY|  343|LARCENY,PETIT OF ...|       COMPLETED|MISDEMEANOR|  BRONX|         FRONT OF|       STREET|N.Y. POLICE DEPT|                0|    null|      null|       null|   1007013|    260060|          null|     null|    null|            null|40.88045772900006|-73.91768494199994|(40.8804577290000...|PATROL BORO BRONX|        null|        45-64| UNKNOWN|      M|  Bronx|          Olinville| 40.87137078192371|-73.86332361652777|\n",
      "| 629841380|  08/31/2019|2023-05-07 18:58:00|  08/31/2019|    19:03:00|         50|08/31/2019|  341|PETIT LARCENY|  343|LARCENY,PETIT OF ...|       COMPLETED|MISDEMEANOR|  BRONX|         FRONT OF|       STREET|N.Y. POLICE DEPT|                0|    null|      null|       null|   1007013|    260060|          null|     null|    null|            null|40.88045772900006|-73.91768494199994|(40.8804577290000...|PATROL BORO BRONX|        null|        45-64| UNKNOWN|      M|  Bronx|        Castle Hill|40.819014376988314|-73.84802729582735|\n",
      "| 629841380|  08/31/2019|2023-05-07 18:58:00|  08/31/2019|    19:03:00|         50|08/31/2019|  341|PETIT LARCENY|  343|LARCENY,PETIT OF ...|       COMPLETED|MISDEMEANOR|  BRONX|         FRONT OF|       STREET|N.Y. POLICE DEPT|                0|    null|      null|       null|   1007013|    260060|          null|     null|    null|            null|40.88045772900006|-73.91768494199994|(40.8804577290000...|PATROL BORO BRONX|        null|        45-64| UNKNOWN|      M|  Bronx|     Edgewater Park|40.821986118163494|-73.81388514428619|\n",
      "| 629841380|  08/31/2019|2023-05-07 18:58:00|  08/31/2019|    19:03:00|         50|08/31/2019|  341|PETIT LARCENY|  343|LARCENY,PETIT OF ...|       COMPLETED|MISDEMEANOR|  BRONX|         FRONT OF|       STREET|N.Y. POLICE DEPT|                0|    null|      null|       null|   1007013|    260060|          null|     null|    null|            null|40.88045772900006|-73.91768494199994|(40.8804577290000...|PATROL BORO BRONX|        null|        45-64| UNKNOWN|      M|  Bronx|      Schuylerville| 40.82657951686922|-73.82620275994073|\n",
      "| 629841380|  08/31/2019|2023-05-07 18:58:00|  08/31/2019|    19:03:00|         50|08/31/2019|  341|PETIT LARCENY|  343|LARCENY,PETIT OF ...|       COMPLETED|MISDEMEANOR|  BRONX|         FRONT OF|       STREET|N.Y. POLICE DEPT|                0|    null|      null|       null|   1007013|    260060|          null|     null|    null|            null|40.88045772900006|-73.91768494199994|(40.8804577290000...|PATROL BORO BRONX|        null|        45-64| UNKNOWN|      M|  Bronx|         Pelham Bay| 40.85064140940335| -73.8320737824047|\n",
      "| 629841380|  08/31/2019|2023-05-07 18:58:00|  08/31/2019|    19:03:00|         50|08/31/2019|  341|PETIT LARCENY|  343|LARCENY,PETIT OF ...|       COMPLETED|MISDEMEANOR|  BRONX|         FRONT OF|       STREET|N.Y. POLICE DEPT|                0|    null|      null|       null|   1007013|    260060|          null|     null|    null|            null|40.88045772900006|-73.91768494199994|(40.8804577290000...|PATROL BORO BRONX|        null|        45-64| UNKNOWN|      M|  Bronx|    North Riverdale| 40.90854282950666|-73.90453054908927|\n",
      "| 629841380|  08/31/2019|2023-05-07 18:58:00|  08/31/2019|    19:03:00|         50|08/31/2019|  341|PETIT LARCENY|  343|LARCENY,PETIT OF ...|       COMPLETED|MISDEMEANOR|  BRONX|         FRONT OF|       STREET|N.Y. POLICE DEPT|                0|    null|      null|       null|   1007013|    260060|          null|     null|    null|            null|40.88045772900006|-73.91768494199994|(40.8804577290000...|PATROL BORO BRONX|        null|        45-64| UNKNOWN|      M|  Bronx|     Spuyten Duyvil| 40.88139497727086|-73.91719048210393|\n",
      "| 629841380|  08/31/2019|2023-05-07 18:58:00|  08/31/2019|    19:03:00|         50|08/31/2019|  341|PETIT LARCENY|  343|LARCENY,PETIT OF ...|       COMPLETED|MISDEMEANOR|  BRONX|         FRONT OF|       STREET|N.Y. POLICE DEPT|                0|    null|      null|       null|   1007013|    260060|          null|     null|    null|            null|40.88045772900006|-73.91768494199994|(40.8804577290000...|PATROL BORO BRONX|        null|        45-64| UNKNOWN|      M|  Bronx|            Belmont| 40.85727710073895|-73.88845196134804|\n",
      "| 629841380|  08/31/2019|2023-05-07 18:58:00|  08/31/2019|    19:03:00|         50|08/31/2019|  341|PETIT LARCENY|  343|LARCENY,PETIT OF ...|       COMPLETED|MISDEMEANOR|  BRONX|         FRONT OF|       STREET|N.Y. POLICE DEPT|                0|    null|      null|       null|   1007013|    260060|          null|     null|    null|            null|40.88045772900006|-73.91768494199994|(40.8804577290000...|PATROL BORO BRONX|        null|        45-64| UNKNOWN|      M|  Bronx|        Morris Park|40.847549063536334|-73.85040178030421|\n",
      "+----------+------------+-------------------+------------+------------+-----------+----------+-----+-------------+-----+--------------------+----------------+-----------+-------+-----------------+-------------+----------------+-----------------+--------+----------+-----------+----------+----------+--------------+---------+--------+----------------+-----------------+------------------+--------------------+-----------------+------------+-------------+--------+-------+-------+-------------------+------------------+------------------+\n",
      "only showing top 20 rows\n",
      "\n"
     ]
    }
   ],
   "source": [
    "from pyspark.sql.functions import col, lower\n",
    "\n",
    "neighborCrimeDF = complaintsDF.join(\n",
    "    neighborhoodsDF.select([\n",
    "        \"Borough\",\n",
    "        \"Neighborhood\",\n",
    "        col(\"Latitude\").alias(\"NLatitude\"),\n",
    "        col(\"Longitude\").alias(\"NLongitude\")\n",
    "    ]),\n",
    "    lower(complaintsDF.BORO_NM) == lower(neighborhoodsDF.Borough),\n",
    "    \"left\"\n",
    ")\n",
    "neighborCrimeDF.show()\n"
   ]
  },
  {
   "cell_type": "code",
   "execution_count": 9,
   "metadata": {
    "id": "eNR8PUUFeX06"
   },
   "outputs": [],
   "source": [
    "# the haversine function expects an iterable of the form (lat, lon)\n",
    "from haversine import haversine\n",
    "from pyspark.sql.types import ArrayType, DoubleType\n",
    "from pyspark.sql.window import Window\n",
    "from pyspark.sql.functions import udf\n",
    "\n",
    "def string2array(lat,long):\n",
    "    if lat is None or long is None:\n",
    "        return None\n",
    "    return [float(lat), float(long)]\n",
    "\n",
    "def haversine_miles(x, y):\n",
    "    if x is None or y is None:\n",
    "        return None\n",
    "    return haversine(x, y, unit='mi')\n",
    "\n",
    "\n",
    "udf_haversine = udf(haversine_miles, DoubleType())\n",
    "udf_string2array = udf(string2array, ArrayType(DoubleType()))\n",
    "\n",
    "window = Window.partitionBy(\"CMPLNT_NUM\").orderBy(col(\"Distance\").asc())"
   ]
  },
  {
   "cell_type": "code",
   "execution_count": 10,
   "metadata": {
    "id": "iAQ9Cq5oRGVu"
   },
   "outputs": [],
   "source": [
    "# import necessary packages\n",
    "import pyspark.sql.functions as F\n",
    "from pyspark.sql.types import StructType, StructField, StringType, DoubleType, ArrayType\n",
    "from haversine import haversine\n",
    "from pyspark.sql.window import Window\n",
    "from pyspark.sql.functions import udf\n",
    "\n",
    "# define UDFs to calculate distance using haversine formula\n",
    "udf_haversine = udf(lambda x, y: haversine(x, y, unit='mi') if x is not None and y is not None else None, DoubleType())\n",
    "udf_string2array = udf(lambda lat, long: [float(lat), float(long)] if lat is not None and long is not None else None, ArrayType(DoubleType()))\n",
    "# create new columns with latitude and longitude as arrays, and distance between crime location and neighborhood\n",
    "neighborCrimeDF2 = neighborCrimeDF \\\n",
    "    .withColumn(\"LatLong\", udf_string2array(\"Latitude\", \"Longitude\")) \\\n",
    "    .withColumn(\"NLatLong\", udf_string2array(\"NLatitude\", \"NLongitude\")) \\\n",
    "    .withColumn(\"Distance\", udf_haversine(\"LatLong\", \"NLatLong\"))\n",
    "    # use window function to get the nearest neighborhood for each crime\n",
    "window = Window.partitionBy(\"CMPLNT_NUM\").orderBy(F.col(\"Distance\").asc())\n",
    "NCDF = neighborCrimeDF2 \\\n",
    "    .withColumn(\"DistanceRank\", F.rank().over(window)) \\\n",
    "    .filter(F.col(\"DistanceRank\") == 1)"
   ]
  },
  {
   "cell_type": "code",
   "execution_count": 11,
   "metadata": {
    "id": "Z060ITENSo0l"
   },
   "outputs": [
    {
     "name": "stderr",
     "output_type": "stream",
     "text": [
      "[Stage 42:>                                                         (0 + 1) / 1]\r"
     ]
    },
    {
     "name": "stdout",
     "output_type": "stream",
     "text": [
      "+----------+------------+-------------------+------------+------------+-----------+----------+-----+---------------+-----+--------------------+----------------+-----------+-------+-----------------+-------------+----------------+-----------------+--------+----------+-----------+----------+----------+--------------+---------+--------+----------------+------------+-------------+--------------------+-----------------+------------+-------------+--------+-------+-------+------------+-----------------+------------------+--------------------+--------------------+-------------------+------------+\n",
      "|CMPLNT_NUM|CMPLNT_FR_DT|       CMPLNT_FR_TM|CMPLNT_TO_DT|CMPLNT_TO_TM|ADDR_PCT_CD|    RPT_DT|KY_CD|      OFNS_DESC|PD_CD|             PD_DESC|CRM_ATPT_CPTD_CD| LAW_CAT_CD|BORO_NM|LOC_OF_OCCUR_DESC|PREM_TYP_DESC|      JURIS_DESC|JURISDICTION_CODE|PARKS_NM|HADEVELOPT|HOUSING_PSA|X_COORD_CD|Y_COORD_CD|SUSP_AGE_GROUP|SUSP_RACE|SUSP_SEX|TRANSIT_DISTRICT|    Latitude|    Longitude|             Lat_Lon|      PATROL_BORO|STATION_NAME|VIC_AGE_GROUP|VIC_RACE|VIC_SEX|Borough|Neighborhood|        NLatitude|        NLongitude|             LatLong|            NLatLong|           Distance|DistanceRank|\n",
      "+----------+------------+-------------------+------------+------------+-----------+----------+-----+---------------+-----+--------------------+----------------+-----------+-------+-----------------+-------------+----------------+-----------------+--------+----------+-----------+----------+----------+--------------+---------+--------+----------------+------------+-------------+--------------------+-----------------+------------+-------------+--------+-------+-------+------------+-----------------+------------------+--------------------+--------------------+-------------------+------------+\n",
      "| 100149708|  03/14/2007|2023-05-07 14:10:00|  03/14/2007|    14:10:00|         43|03/14/2007|  235|DANGEROUS DRUGS|  567|MARIJUANA, POSSES...|       COMPLETED|MISDEMEANOR|  BRONX|             null|       STREET|N.Y. POLICE DEPT|                0|      NA|      null|         NA|   1023516|    234031|          null|     null|    null|            null|40.808957852|-73.858158597|(40.808957852, -7...|PATROL BORO BRONX|        null|         null| UNKNOWN|      E|  Bronx|Clason Point|40.80655112003589|-73.85414416189266|[40.808957852, -7...|[40.8065511200358...|0.26782199390786027|           1|\n",
      "+----------+------------+-------------------+------------+------------+-----------+----------+-----+---------------+-----+--------------------+----------------+-----------+-------+-----------------+-------------+----------------+-----------------+--------+----------+-----------+----------+----------+--------------+---------+--------+----------------+------------+-------------+--------------------+-----------------+------------+-------------+--------+-------+-------+------------+-----------------+------------------+--------------------+--------------------+-------------------+------------+\n",
      "only showing top 1 row\n",
      "\n"
     ]
    },
    {
     "name": "stderr",
     "output_type": "stream",
     "text": [
      "\r",
      "                                                                                \r"
     ]
    }
   ],
   "source": [
    "NCDF.show(1)"
   ]
  },
  {
   "cell_type": "code",
   "execution_count": null,
   "metadata": {},
   "outputs": [],
   "source": [
    "# neighborCrimeDF2 = neighborCrimeDF\\\n",
    "#     .withColumn(\"LatLong\",udf_string2array(col(\"Latitude\"),col(\"Longitude\")))\\\n",
    "#     .withColumn(\"NLatLong\",udf_string2array(col(\"NLatitude\"),col(\"NLongitude\")))\\\n",
    "#     .withColumn(\"Distance\",udf_haversine(col(\"LatLong\"),col(\"NLatLong\")))\n",
    "# neighborCrimeDF2.show()"
   ]
  },
  {
   "cell_type": "code",
   "execution_count": null,
   "metadata": {},
   "outputs": [],
   "source": [
    "# from pyspark.sql.functions import rank\n",
    "\n",
    "# NCDF = neighborCrimeDF2.withColumn(\"DistanceRank\", rank().over(window)).filter(col(\"DistanceRank\") == 1)\n",
    "# NCDF.show()\n"
   ]
  },
  {
   "cell_type": "code",
   "execution_count": 13,
   "metadata": {
    "id": "vSx012FUjYEH"
   },
   "outputs": [
    {
     "name": "stderr",
     "output_type": "stream",
     "text": [
      "[Stage 51:===================================================>  (192 + 8) / 200]\r"
     ]
    },
    {
     "name": "stdout",
     "output_type": "stream",
     "text": [
      "+-----------------+-----+\n",
      "|                N|Count|\n",
      "+-----------------+-----+\n",
      "|     East Village|44669|\n",
      "|       Greenridge| 9210|\n",
      "|       Whitestone|11993|\n",
      "|           Travis| 1963|\n",
      "|      Silver Lake| 2770|\n",
      "|          Chelsea|58731|\n",
      "|          Hammels|13182|\n",
      "|     Dongan Hills| 8220|\n",
      "|   Rockaway Beach|14482|\n",
      "|Battery Park City| 8159|\n",
      "|       Mount Hope|71840|\n",
      "|    South Jamaica|60126|\n",
      "|         Allerton|28435|\n",
      "|          Bayside|19695|\n",
      "|          Woodrow| 4364|\n",
      "|     West Village|42891|\n",
      "|    Carnegie Hill|39033|\n",
      "|     Williamsburg|37336|\n",
      "|  Manhattan Beach| 8694|\n",
      "|       Ozone Park|49173|\n",
      "+-----------------+-----+\n",
      "only showing top 20 rows\n",
      "\n"
     ]
    },
    {
     "name": "stderr",
     "output_type": "stream",
     "text": [
      "\r",
      "                                                                                \r"
     ]
    }
   ],
   "source": [
    "# count number of crimes based on neighborhood and borough\n",
    "NC_CountDF = NCDF.groupBy([\"Neighborhood\",\"Borough\"]).count().toDF(\"N\",\"B\",\"Count\").drop(\"B\")\n",
    "NC_CountDF.show()"
   ]
  },
  {
   "cell_type": "code",
   "execution_count": null,
   "metadata": {
    "id": "zgoY_KgdnFLo"
   },
   "outputs": [],
   "source": [
    "NeighborhoodCrimesDF = neighborhoodsDF.join(NC_CountDF,neighborhoodsDF.Neighborhood == NC_CountDF.N, \"left\").drop(\"N\")\n",
    "NeighborhoodCrimesDF.show()"
   ]
  },
  {
   "cell_type": "code",
   "execution_count": null,
   "metadata": {
    "id": "wKidJMIlnFN8"
   },
   "outputs": [],
   "source": [
    "NeighborhoodCrimesDF.coalesce(1)\\\n",
    "      .write\\\n",
    "      .option(\"header\",\"true\")\\\n",
    "      .option(\"sep\",\",\")\\\n",
    "      .mode(\"overwrite\")\\\n",
    "      .csv(\"/content/drive/MyDrive/NYPDArrestsByNeighborhood\")"
   ]
  },
  {
   "cell_type": "code",
   "execution_count": null,
   "metadata": {
    "id": "as4DdxInnMTe"
   },
   "outputs": [],
   "source": [
    "NCDF.drop(\"LatLong\",\"NLatLong\")\\\n",
    "    .coalesce(1)\\\n",
    "    .write\\\n",
    "    .option(\"header\",\"true\")\\\n",
    "    .option(\"sep\",\",\")\\\n",
    "    .mode(\"overwrite\")\\\n",
    "    .csv(\"/content/drive/MyDrive/NYPDWithNeighborhoods\")"
   ]
  }
 ],
 "metadata": {
  "accelerator": "GPU",
  "colab": {
   "gpuType": "T4",
   "provenance": []
  },
  "gpuClass": "standard",
  "kernelspec": {
   "display_name": "Python 3 (ipykernel)",
   "language": "python",
   "name": "python3"
  },
  "language_info": {
   "codemirror_mode": {
    "name": "ipython",
    "version": 3
   },
   "file_extension": ".py",
   "mimetype": "text/x-python",
   "name": "python",
   "nbconvert_exporter": "python",
   "pygments_lexer": "ipython3",
   "version": "3.10.9"
  }
 },
 "nbformat": 4,
 "nbformat_minor": 1
}
