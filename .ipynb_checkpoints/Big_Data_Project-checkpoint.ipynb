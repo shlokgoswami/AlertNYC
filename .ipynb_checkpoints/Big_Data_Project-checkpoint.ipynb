{
 "cells": [
  {
   "cell_type": "markdown",
   "metadata": {},
   "source": [
    "# NYPD COMPLAINTS (Historic)"
   ]
  },
  {
   "cell_type": "code",
   "execution_count": 1,
   "metadata": {},
   "outputs": [],
   "source": [
    "from pyspark import SparkContext, SparkConf\n",
    "import pandas as pd\n",
    "import matplotlib as plt\n",
    "import numpy as np\n",
    "import scipy as sp\n",
    "import IPython\n",
    "import matplotlib.pyplot as plt\n",
    "from openclean.pipeline import stream\n",
    "from openclean.profiling.column import DefaultColumnProfiler\n",
    "from openclean.data.source.socrata import *\n",
    "from openclean.pipeline import stream\n",
    "from openclean.function.eval.datatype import *\n",
    "import datetime\n",
    "import pandas as pd\n",
    "from pyspark.sql import SparkSession, Row\n",
    "from pyspark.sql.functions import *\n",
    "from pyspark.sql.types import *\n",
    "import pandas as pd\n",
    "import numpy as np\n",
    "import matplotlib.pyplot as plt\n",
    "import geopandas as gpd\n",
    "import scipy.cluster.hierarchy as shc"
   ]
  },
  {
   "cell_type": "code",
   "execution_count": 2,
   "metadata": {},
   "outputs": [
    {
     "name": "stderr",
     "output_type": "stream",
     "text": [
      "22/05/16 14:17:12 WARN Utils: Your hostname, Hrushis-MacBook-Air.local resolves to a loopback address: 127.0.0.1; using 192.168.1.7 instead (on interface en0)\n",
      "22/05/16 14:17:12 WARN Utils: Set SPARK_LOCAL_IP if you need to bind to another address\n",
      "WARNING: An illegal reflective access operation has occurred\n",
      "WARNING: Illegal reflective access by org.apache.spark.unsafe.Platform (file:/opt/homebrew/Caskroom/miniforge/base/envs/pysparkenv/lib/python3.10/site-packages/pyspark/jars/spark-unsafe_2.12-3.2.1.jar) to constructor java.nio.DirectByteBuffer(long,int)\n",
      "WARNING: Please consider reporting this to the maintainers of org.apache.spark.unsafe.Platform\n",
      "WARNING: Use --illegal-access=warn to enable warnings of further illegal reflective access operations\n",
      "WARNING: All illegal access operations will be denied in a future release\n",
      "Using Spark's default log4j profile: org/apache/spark/log4j-defaults.properties\n",
      "Setting default log level to \"WARN\".\n",
      "To adjust logging level use sc.setLogLevel(newLevel). For SparkR, use setLogLevel(newLevel).\n",
      "22/05/16 14:17:12 WARN NativeCodeLoader: Unable to load native-hadoop library for your platform... using builtin-java classes where applicable\n"
     ]
    }
   ],
   "source": [
    "#Creating Spark Session\n",
    "sc = SparkContext.getOrCreate();\n",
    "spark = SparkSession(sc)"
   ]
  },
  {
   "cell_type": "code",
   "execution_count": 3,
   "metadata": {},
   "outputs": [],
   "source": [
    "\n",
    "final_dst = '/Users/hrushipatel/Desktop/NYPD_Complaint_Data_Historic.csv'\n"
   ]
  },
  {
   "cell_type": "code",
   "execution_count": 4,
   "metadata": {},
   "outputs": [
    {
     "name": "stderr",
     "output_type": "stream",
     "text": [
      "                                                                                \r"
     ]
    }
   ],
   "source": [
    "df=spark.read.option(\"header\",True).csv(final_dst,inferSchema=True)"
   ]
  },
  {
   "cell_type": "markdown",
   "metadata": {},
   "source": [
    "Profiling"
   ]
  },
  {
   "cell_type": "code",
   "execution_count": 5,
   "metadata": {},
   "outputs": [
    {
     "data": {
      "text/html": [
       "<div>\n",
       "<style scoped>\n",
       "    .dataframe tbody tr th:only-of-type {\n",
       "        vertical-align: middle;\n",
       "    }\n",
       "\n",
       "    .dataframe tbody tr th {\n",
       "        vertical-align: top;\n",
       "    }\n",
       "\n",
       "    .dataframe thead th {\n",
       "        text-align: right;\n",
       "    }\n",
       "</style>\n",
       "<table border=\"1\" class=\"dataframe\">\n",
       "  <thead>\n",
       "    <tr style=\"text-align: right;\">\n",
       "      <th></th>\n",
       "      <th>total</th>\n",
       "      <th>empty</th>\n",
       "      <th>distinct</th>\n",
       "      <th>uniqueness</th>\n",
       "      <th>entropy</th>\n",
       "    </tr>\n",
       "  </thead>\n",
       "  <tbody>\n",
       "    <tr>\n",
       "      <th>CMPLNT_NUM</th>\n",
       "      <td>7375993</td>\n",
       "      <td>0</td>\n",
       "      <td>7373143</td>\n",
       "      <td>9.996136e-01</td>\n",
       "      <td>22.813633</td>\n",
       "    </tr>\n",
       "    <tr>\n",
       "      <th>CMPLNT_FR_DT</th>\n",
       "      <td>7375993</td>\n",
       "      <td>655</td>\n",
       "      <td>8606</td>\n",
       "      <td>1.166862e-03</td>\n",
       "      <td>12.425578</td>\n",
       "    </tr>\n",
       "    <tr>\n",
       "      <th>CMPLNT_FR_TM</th>\n",
       "      <td>7375993</td>\n",
       "      <td>48</td>\n",
       "      <td>1441</td>\n",
       "      <td>1.953648e-04</td>\n",
       "      <td>8.136466</td>\n",
       "    </tr>\n",
       "    <tr>\n",
       "      <th>CMPLNT_TO_DT</th>\n",
       "      <td>7375993</td>\n",
       "      <td>1704204</td>\n",
       "      <td>6825</td>\n",
       "      <td>1.203324e-03</td>\n",
       "      <td>12.417984</td>\n",
       "    </tr>\n",
       "    <tr>\n",
       "      <th>CMPLNT_TO_TM</th>\n",
       "      <td>7375993</td>\n",
       "      <td>1699541</td>\n",
       "      <td>1441</td>\n",
       "      <td>2.538558e-04</td>\n",
       "      <td>8.862856</td>\n",
       "    </tr>\n",
       "    <tr>\n",
       "      <th>ADDR_PCT_CD</th>\n",
       "      <td>7375993</td>\n",
       "      <td>2166</td>\n",
       "      <td>77</td>\n",
       "      <td>1.044234e-05</td>\n",
       "      <td>6.148690</td>\n",
       "    </tr>\n",
       "    <tr>\n",
       "      <th>RPT_DT</th>\n",
       "      <td>7375993</td>\n",
       "      <td>0</td>\n",
       "      <td>5479</td>\n",
       "      <td>7.428152e-04</td>\n",
       "      <td>12.405384</td>\n",
       "    </tr>\n",
       "    <tr>\n",
       "      <th>KY_CD</th>\n",
       "      <td>7375993</td>\n",
       "      <td>0</td>\n",
       "      <td>74</td>\n",
       "      <td>1.003255e-05</td>\n",
       "      <td>4.170727</td>\n",
       "    </tr>\n",
       "    <tr>\n",
       "      <th>OFNS_DESC</th>\n",
       "      <td>7375993</td>\n",
       "      <td>18823</td>\n",
       "      <td>71</td>\n",
       "      <td>9.650450e-06</td>\n",
       "      <td>4.006583</td>\n",
       "    </tr>\n",
       "    <tr>\n",
       "      <th>PD_CD</th>\n",
       "      <td>7375993</td>\n",
       "      <td>6278</td>\n",
       "      <td>432</td>\n",
       "      <td>5.861828e-05</td>\n",
       "      <td>5.913459</td>\n",
       "    </tr>\n",
       "    <tr>\n",
       "      <th>PD_DESC</th>\n",
       "      <td>7375993</td>\n",
       "      <td>6278</td>\n",
       "      <td>422</td>\n",
       "      <td>5.726137e-05</td>\n",
       "      <td>5.904814</td>\n",
       "    </tr>\n",
       "    <tr>\n",
       "      <th>CRM_ATPT_CPTD_CD</th>\n",
       "      <td>7375993</td>\n",
       "      <td>7</td>\n",
       "      <td>2</td>\n",
       "      <td>2.711502e-07</td>\n",
       "      <td>0.124481</td>\n",
       "    </tr>\n",
       "    <tr>\n",
       "      <th>LAW_CAT_CD</th>\n",
       "      <td>7375993</td>\n",
       "      <td>0</td>\n",
       "      <td>3</td>\n",
       "      <td>4.067249e-07</td>\n",
       "      <td>1.373922</td>\n",
       "    </tr>\n",
       "    <tr>\n",
       "      <th>BORO_NM</th>\n",
       "      <td>7375993</td>\n",
       "      <td>11329</td>\n",
       "      <td>5</td>\n",
       "      <td>6.789176e-07</td>\n",
       "      <td>2.162442</td>\n",
       "    </tr>\n",
       "    <tr>\n",
       "      <th>LOC_OF_OCCUR_DESC</th>\n",
       "      <td>7375993</td>\n",
       "      <td>1543800</td>\n",
       "      <td>5</td>\n",
       "      <td>8.573104e-07</td>\n",
       "      <td>1.241785</td>\n",
       "    </tr>\n",
       "    <tr>\n",
       "      <th>PREM_TYP_DESC</th>\n",
       "      <td>7375993</td>\n",
       "      <td>40745</td>\n",
       "      <td>74</td>\n",
       "      <td>1.008828e-05</td>\n",
       "      <td>3.579655</td>\n",
       "    </tr>\n",
       "    <tr>\n",
       "      <th>JURIS_DESC</th>\n",
       "      <td>7375993</td>\n",
       "      <td>0</td>\n",
       "      <td>25</td>\n",
       "      <td>3.389374e-06</td>\n",
       "      <td>0.668693</td>\n",
       "    </tr>\n",
       "    <tr>\n",
       "      <th>JURISDICTION_CODE</th>\n",
       "      <td>7375993</td>\n",
       "      <td>6278</td>\n",
       "      <td>25</td>\n",
       "      <td>3.392261e-06</td>\n",
       "      <td>0.668795</td>\n",
       "    </tr>\n",
       "    <tr>\n",
       "      <th>PARKS_NM</th>\n",
       "      <td>7375993</td>\n",
       "      <td>3229345</td>\n",
       "      <td>1206</td>\n",
       "      <td>2.908373e-04</td>\n",
       "      <td>0.110850</td>\n",
       "    </tr>\n",
       "    <tr>\n",
       "      <th>HADEVELOPT</th>\n",
       "      <td>7375993</td>\n",
       "      <td>7029181</td>\n",
       "      <td>279</td>\n",
       "      <td>8.044704e-04</td>\n",
       "      <td>7.277703</td>\n",
       "    </tr>\n",
       "    <tr>\n",
       "      <th>HOUSING_PSA</th>\n",
       "      <td>7375993</td>\n",
       "      <td>1241432</td>\n",
       "      <td>5103</td>\n",
       "      <td>8.318444e-04</td>\n",
       "      <td>1.216803</td>\n",
       "    </tr>\n",
       "    <tr>\n",
       "      <th>X_COORD_CD</th>\n",
       "      <td>7375993</td>\n",
       "      <td>17339</td>\n",
       "      <td>71343</td>\n",
       "      <td>9.695115e-03</td>\n",
       "      <td>14.595751</td>\n",
       "    </tr>\n",
       "    <tr>\n",
       "      <th>Y_COORD_CD</th>\n",
       "      <td>7375993</td>\n",
       "      <td>17339</td>\n",
       "      <td>73933</td>\n",
       "      <td>1.004708e-02</td>\n",
       "      <td>14.744968</td>\n",
       "    </tr>\n",
       "    <tr>\n",
       "      <th>SUSP_AGE_GROUP</th>\n",
       "      <td>7375993</td>\n",
       "      <td>4795235</td>\n",
       "      <td>111</td>\n",
       "      <td>4.301062e-05</td>\n",
       "      <td>2.113260</td>\n",
       "    </tr>\n",
       "    <tr>\n",
       "      <th>SUSP_RACE</th>\n",
       "      <td>7375993</td>\n",
       "      <td>3426694</td>\n",
       "      <td>8</td>\n",
       "      <td>2.025676e-06</td>\n",
       "      <td>2.224526</td>\n",
       "    </tr>\n",
       "    <tr>\n",
       "      <th>SUSP_SEX</th>\n",
       "      <td>7375993</td>\n",
       "      <td>3560008</td>\n",
       "      <td>3</td>\n",
       "      <td>7.861666e-07</td>\n",
       "      <td>1.323637</td>\n",
       "    </tr>\n",
       "    <tr>\n",
       "      <th>TRANSIT_DISTRICT</th>\n",
       "      <td>7375993</td>\n",
       "      <td>7212494</td>\n",
       "      <td>12</td>\n",
       "      <td>7.339494e-05</td>\n",
       "      <td>3.437520</td>\n",
       "    </tr>\n",
       "    <tr>\n",
       "      <th>Latitude</th>\n",
       "      <td>7375993</td>\n",
       "      <td>17339</td>\n",
       "      <td>205539</td>\n",
       "      <td>2.793160e-02</td>\n",
       "      <td>15.828371</td>\n",
       "    </tr>\n",
       "    <tr>\n",
       "      <th>Longitude</th>\n",
       "      <td>7375993</td>\n",
       "      <td>17339</td>\n",
       "      <td>201311</td>\n",
       "      <td>2.735704e-02</td>\n",
       "      <td>15.797580</td>\n",
       "    </tr>\n",
       "    <tr>\n",
       "      <th>Lat_Lon</th>\n",
       "      <td>7375993</td>\n",
       "      <td>17339</td>\n",
       "      <td>198552</td>\n",
       "      <td>2.698211e-02</td>\n",
       "      <td>15.677861</td>\n",
       "    </tr>\n",
       "    <tr>\n",
       "      <th>PATROL_BORO</th>\n",
       "      <td>7375993</td>\n",
       "      <td>6735</td>\n",
       "      <td>8</td>\n",
       "      <td>1.085591e-06</td>\n",
       "      <td>2.898560</td>\n",
       "    </tr>\n",
       "    <tr>\n",
       "      <th>STATION_NAME</th>\n",
       "      <td>7375993</td>\n",
       "      <td>7212494</td>\n",
       "      <td>372</td>\n",
       "      <td>2.275243e-03</td>\n",
       "      <td>7.617040</td>\n",
       "    </tr>\n",
       "    <tr>\n",
       "      <th>VIC_AGE_GROUP</th>\n",
       "      <td>7375993</td>\n",
       "      <td>1638445</td>\n",
       "      <td>202</td>\n",
       "      <td>3.520668e-05</td>\n",
       "      <td>2.201239</td>\n",
       "    </tr>\n",
       "    <tr>\n",
       "      <th>VIC_RACE</th>\n",
       "      <td>7375993</td>\n",
       "      <td>309</td>\n",
       "      <td>8</td>\n",
       "      <td>1.084645e-06</td>\n",
       "      <td>2.323077</td>\n",
       "    </tr>\n",
       "    <tr>\n",
       "      <th>VIC_SEX</th>\n",
       "      <td>7375993</td>\n",
       "      <td>308</td>\n",
       "      <td>5</td>\n",
       "      <td>6.779031e-07</td>\n",
       "      <td>1.846472</td>\n",
       "    </tr>\n",
       "  </tbody>\n",
       "</table>\n",
       "</div>"
      ],
      "text/plain": [
       "                     total    empty  distinct    uniqueness    entropy\n",
       "CMPLNT_NUM         7375993        0   7373143  9.996136e-01  22.813633\n",
       "CMPLNT_FR_DT       7375993      655      8606  1.166862e-03  12.425578\n",
       "CMPLNT_FR_TM       7375993       48      1441  1.953648e-04   8.136466\n",
       "CMPLNT_TO_DT       7375993  1704204      6825  1.203324e-03  12.417984\n",
       "CMPLNT_TO_TM       7375993  1699541      1441  2.538558e-04   8.862856\n",
       "ADDR_PCT_CD        7375993     2166        77  1.044234e-05   6.148690\n",
       "RPT_DT             7375993        0      5479  7.428152e-04  12.405384\n",
       "KY_CD              7375993        0        74  1.003255e-05   4.170727\n",
       "OFNS_DESC          7375993    18823        71  9.650450e-06   4.006583\n",
       "PD_CD              7375993     6278       432  5.861828e-05   5.913459\n",
       "PD_DESC            7375993     6278       422  5.726137e-05   5.904814\n",
       "CRM_ATPT_CPTD_CD   7375993        7         2  2.711502e-07   0.124481\n",
       "LAW_CAT_CD         7375993        0         3  4.067249e-07   1.373922\n",
       "BORO_NM            7375993    11329         5  6.789176e-07   2.162442\n",
       "LOC_OF_OCCUR_DESC  7375993  1543800         5  8.573104e-07   1.241785\n",
       "PREM_TYP_DESC      7375993    40745        74  1.008828e-05   3.579655\n",
       "JURIS_DESC         7375993        0        25  3.389374e-06   0.668693\n",
       "JURISDICTION_CODE  7375993     6278        25  3.392261e-06   0.668795\n",
       "PARKS_NM           7375993  3229345      1206  2.908373e-04   0.110850\n",
       "HADEVELOPT         7375993  7029181       279  8.044704e-04   7.277703\n",
       "HOUSING_PSA        7375993  1241432      5103  8.318444e-04   1.216803\n",
       "X_COORD_CD         7375993    17339     71343  9.695115e-03  14.595751\n",
       "Y_COORD_CD         7375993    17339     73933  1.004708e-02  14.744968\n",
       "SUSP_AGE_GROUP     7375993  4795235       111  4.301062e-05   2.113260\n",
       "SUSP_RACE          7375993  3426694         8  2.025676e-06   2.224526\n",
       "SUSP_SEX           7375993  3560008         3  7.861666e-07   1.323637\n",
       "TRANSIT_DISTRICT   7375993  7212494        12  7.339494e-05   3.437520\n",
       "Latitude           7375993    17339    205539  2.793160e-02  15.828371\n",
       "Longitude          7375993    17339    201311  2.735704e-02  15.797580\n",
       "Lat_Lon            7375993    17339    198552  2.698211e-02  15.677861\n",
       "PATROL_BORO        7375993     6735         8  1.085591e-06   2.898560\n",
       "STATION_NAME       7375993  7212494       372  2.275243e-03   7.617040\n",
       "VIC_AGE_GROUP      7375993  1638445       202  3.520668e-05   2.201239\n",
       "VIC_RACE           7375993      309         8  1.084645e-06   2.323077\n",
       "VIC_SEX            7375993      308         5  6.779031e-07   1.846472"
      ]
     },
     "execution_count": 5,
     "metadata": {},
     "output_type": "execute_result"
    }
   ],
   "source": [
    "dp=stream(final_dst)\n",
    "profiles = dp.profile(default_profiler=DefaultColumnProfiler)\n",
    "profiles.stats()"
   ]
  },
  {
   "cell_type": "markdown",
   "metadata": {},
   "source": [
    "Counting Total Number Rows in DATASET"
   ]
  },
  {
   "cell_type": "code",
   "execution_count": 6,
   "metadata": {},
   "outputs": [
    {
     "name": "stderr",
     "output_type": "stream",
     "text": [
      "                                                                                \r"
     ]
    },
    {
     "data": {
      "text/plain": [
       "7375993"
      ]
     },
     "execution_count": 6,
     "metadata": {},
     "output_type": "execute_result"
    }
   ],
   "source": [
    "df.count()"
   ]
  },
  {
   "cell_type": "code",
   "execution_count": 7,
   "metadata": {},
   "outputs": [
    {
     "name": "stderr",
     "output_type": "stream",
     "text": [
      "22/05/16 14:19:36 WARN package: Truncated the string representation of a plan since it was too large. This behavior can be adjusted by setting 'spark.sql.debug.maxToStringFields'.\n"
     ]
    },
    {
     "data": {
      "text/plain": [
       "Row(CMPLNT_NUM=394506329, CMPLNT_FR_DT='12/31/2019', CMPLNT_FR_TM='17:30:00', CMPLNT_TO_DT=None, CMPLNT_TO_TM=None, ADDR_PCT_CD=32, RPT_DT='12/31/2019', KY_CD=118, OFNS_DESC='DANGEROUS WEAPONS', PD_CD=793, PD_DESC='WEAPONS POSSESSION 3', CRM_ATPT_CPTD_CD='COMPLETED', LAW_CAT_CD='FELONY', BORO_NM='MANHATTAN', LOC_OF_OCCUR_DESC=None, PREM_TYP_DESC='STREET', JURIS_DESC='N.Y. POLICE DEPT', JURISDICTION_CODE=0, PARKS_NM=None, HADEVELOPT=None, HOUSING_PSA=None, X_COORD_CD=999937, Y_COORD_CD=238365, SUSP_AGE_GROUP=None, SUSP_RACE=None, SUSP_SEX=None, TRANSIT_DISTRICT=None, Latitude=40.82092679700002, Longitude=-73.94332421899996, Lat_Lon='(40.82092679700002, -73.94332421899996)', PATROL_BORO='PATROL BORO MAN NORTH', STATION_NAME=None, VIC_AGE_GROUP='UNKNOWN', VIC_RACE='UNKNOWN', VIC_SEX='E')"
      ]
     },
     "execution_count": 7,
     "metadata": {},
     "output_type": "execute_result"
    }
   ],
   "source": [
    "df.head()\n"
   ]
  },
  {
   "cell_type": "markdown",
   "metadata": {},
   "source": [
    "Date Column is validated"
   ]
  },
  {
   "cell_type": "code",
   "execution_count": 8,
   "metadata": {},
   "outputs": [],
   "source": [
    "df_temp=df.rdd"
   ]
  },
  {
   "cell_type": "code",
   "execution_count": 9,
   "metadata": {},
   "outputs": [],
   "source": [
    "import datetime\n",
    "def valid_date_check(date, format):\n",
    "  if isinstance(date, datetime.datetime):\n",
    "    date=str(date.date())\n",
    "  if date==None or date==\" \" or date==\"\":\n",
    "      return False\n",
    "  else:\n",
    "    date_cpy=date\n",
    "    split_date=date.split(\"-\")\n",
    "    format_date=format.split(\"-\")\n",
    "    if len(split_date)!=3 and len(format_date)!=3:\n",
    "      date=date.split(\"/\")\n",
    "      format=format.split(\"/\")\n",
    "    else:\n",
    "      date=split_date\n",
    "      format=format_date\n",
    "    if len(date)!=3:\n",
    "      return False\n",
    "    try:\n",
    "      year=int(date[format.index('yyyy')])\n",
    "      month=int(date[format.index('mm')])\n",
    "      day=int(date[format.index('dd')])\n",
    "      if year>=2006 and year<=2020:\n",
    "        try:\n",
    "          refined_date=datetime.datetime(year, month, day)\n",
    "          return True\n",
    "        except:\n",
    "          return False\n",
    "      else:\n",
    "        return False\n",
    "    except:\n",
    "      return False"
   ]
  },
  {
   "cell_type": "code",
   "execution_count": 10,
   "metadata": {},
   "outputs": [],
   "source": [
    "df_temp=df_temp.map(lambda x:(x, valid_date_check(x[1], 'mm/dd/yyyy'))).filter(lambda x: x[1]==True)\n",
    "df_temp=df_temp.map(lambda x: x[0])"
   ]
  },
  {
   "cell_type": "markdown",
   "metadata": {},
   "source": [
    "Time column is validated"
   ]
  },
  {
   "cell_type": "code",
   "execution_count": 11,
   "metadata": {},
   "outputs": [],
   "source": [
    "def valid_time_check(time):\n",
    "  if time==None or time==\" \" or time==\"\":\n",
    "    return False\n",
    "  else :\n",
    "    cpy_time=time\n",
    "    time=time.split(\":\")\n",
    "    try:\n",
    "      hour=int(time[0])\n",
    "      mins=int(time[1])\n",
    "      secs= int(time[2])\n",
    "      # if hours is 24 then change it to 0 hours\n",
    "      if hour == 24 and mins== 0 and secs == 0:\n",
    "        hour=0\n",
    "      try:\n",
    "        newTime= datetime.time(hour,mins,secs)\n",
    "        return True\n",
    "      except :\n",
    "        return False\n",
    "    except:\n",
    "      return False"
   ]
  },
  {
   "cell_type": "code",
   "execution_count": 12,
   "metadata": {},
   "outputs": [],
   "source": [
    "df_temp=df_temp.map(lambda x:(x, valid_time_check(x[2]))).filter(lambda x: x[1]==True)\n",
    "df_temp=df_temp.map(lambda x: x[0])"
   ]
  },
  {
   "cell_type": "markdown",
   "metadata": {},
   "source": [
    "Sex, Gender and age of the suspect,victim"
   ]
  },
  {
   "cell_type": "code",
   "execution_count": 13,
   "metadata": {},
   "outputs": [],
   "source": [
    "def refine_age_group_race(temp, victim_age_group=None, suspect_age_group=None, suspect_race=None, victim_race=None):\n",
    "  if victim_age_group:\n",
    "    temp = temp.na.fill(\"UNKNOWN\",subset=[victim_age_group])\n",
    "  if suspect_age_group:\n",
    "    temp = temp.na.fill(\"UNKNOWN\",subset=[suspect_age_group])\n",
    "  if suspect_race:\n",
    "    temp = temp.na.fill(\"UNKNOWN\",subset=[suspect_race])\n",
    "  if victim_race:\n",
    "    temp = temp.na.fill(\"UNKNOWN\",subset=[victim_race])\n",
    "  return temp"
   ]
  },
  {
   "cell_type": "code",
   "execution_count": 14,
   "metadata": {},
   "outputs": [],
   "source": [
    "def refine_sex_gender_impute(temp, suspect_age=None, suspect_gender=None, victim_age=None, victim_gender=None):\n",
    "  #params: dataframe, col names for the respective age, gender cols\n",
    "\n",
    "  if suspect_age:\n",
    "    temp=temp.na.fill(\"U\",subset=[suspect_age])\n",
    "  if victim_age:\n",
    "    temp=temp.na.fill(\"U\",subset=[victim_age])\n",
    "  if suspect_gender:\n",
    "    temp = temp.na.fill(\"UNKNOWN\",subset=[suspect_gender])\n",
    "  if victim_gender:\n",
    "    temp = temp.na.fill(\"UNKNOWN\",subset=[victim_gender])\n",
    "  return df_temp"
   ]
  },
  {
   "cell_type": "code",
   "execution_count": 15,
   "metadata": {},
   "outputs": [],
   "source": [
    "df_temp=df_temp.toDF(schema=df.schema)\n",
    "df_temp=refine_age_group_race(df_temp, \"VIC_AGE_GROUP\", \"SUSP_AGE_GROUP\", 'SUSP_RACE', 'VIC_RACE')\n",
    "df_temp=refine_sex_gender_impute(df_temp, None, 'SUSP_SEX', None, 'VIC_SEX')"
   ]
  },
  {
   "cell_type": "markdown",
   "metadata": {},
   "source": [
    "Level of Offence check"
   ]
  },
  {
   "cell_type": "code",
   "execution_count": 16,
   "metadata": {},
   "outputs": [],
   "source": [
    "def Offence_level(offence):\n",
    "    if offence==\"\" or offence==\" \" or offence==None:\n",
    "        return False\n",
    "    else:\n",
    "        crimes_list=['FELONY',\"MISDEMEANOR\",\"VIOLATION\"]\n",
    "        if offence not in crimes_list:\n",
    "            return False\n",
    "        else :\n",
    "            return True"
   ]
  },
  {
   "cell_type": "code",
   "execution_count": 17,
   "metadata": {},
   "outputs": [],
   "source": [
    "df_temp=df_temp.rdd\n",
    "df_temp_=df_temp.map(lambda x:(x, Offence_level(x[5]))).filter(lambda x: x[1]==True)\n",
    "df_temp=df_temp.map(lambda x: x[0])"
   ]
  },
  {
   "cell_type": "markdown",
   "metadata": {},
   "source": [
    "KY_CD,Housing PSA,Premises,PD_CD Column cleaning"
   ]
  },
  {
   "cell_type": "code",
   "execution_count": 18,
   "metadata": {},
   "outputs": [],
   "source": [
    "def KY_CD_validate(ky_cd):\n",
    "    if ky_cd==\"\" or ky_cd==\" \" or ky_cd==None:\n",
    "        return False\n",
    "    else:\n",
    "        return True\n",
    "\n",
    "def hpsa_validate(hpsa):\n",
    "    if hpsa==\"\" or hpsa==\" \" or hpsa==None:\n",
    "        return False\n",
    "    else:\n",
    "        return True\n",
    "\n",
    "def prem_validate(pm_type):\n",
    "    if pm_type==\"\" or pm_type==\" \" or pm_type==None:\n",
    "        return False\n",
    "    else:\n",
    "        return True\n",
    "\n",
    "def pd_cd_validate(pd_cd):\n",
    "    if pd_cd==\"\" or pd_cd==\" \" or pd_cd==None:\n",
    "        return False\n",
    "    else:\n",
    "        return True"
   ]
  },
  {
   "cell_type": "code",
   "execution_count": 19,
   "metadata": {},
   "outputs": [],
   "source": [
    "df_temp=df_temp.map(lambda x:(x, KY_CD_validate(x[3]))).filter(lambda x: x[1]==True)\n",
    "df_temp=df_temp.map(lambda x: x[0])\n",
    "\n",
    "df_temp=df_temp.map(lambda x:(x, hpsa_validate(x[-1]))).filter(lambda x: x[1]==True)\n",
    "df_temp=df_temp.map(lambda x: x[0])\n",
    "\n",
    "df_temp=df_temp.map(lambda x:(x, prem_validate(x[8]))).filter(lambda x: x[1]==True)\n",
    "df_temp=df_temp.map(lambda x: x[0])\n",
    "\n",
    "df_temp=df_temp.map(lambda x:(x, pd_cd_validate(x[-2]))).filter(lambda x: x[1]==True)\n",
    "df_temp=df_temp.map(lambda x: x[0])"
   ]
  },
  {
   "cell_type": "markdown",
   "metadata": {},
   "source": [
    "The columns with highest empty are sorted"
   ]
  },
  {
   "cell_type": "code",
   "execution_count": 20,
   "metadata": {},
   "outputs": [],
   "source": [
    "blank_vals=[]\n",
    "cols=df.columns\n",
    "empty={}\n",
    "for i in cols:\n",
    "  blank_vals.append(profiles.column(i).get('emptyValueCount'))\n",
    "  empty[i]=profiles.column(i).get('emptyValueCount')"
   ]
  },
  {
   "cell_type": "code",
   "execution_count": 21,
   "metadata": {},
   "outputs": [
    {
     "name": "stdout",
     "output_type": "stream",
     "text": [
      "['CMPLNT_NUM', 'JURIS_DESC', 'KY_CD', 'LAW_CAT_CD', 'RPT_DT', 'CRM_ATPT_CPTD_CD', 'CMPLNT_FR_TM', 'VIC_SEX', 'VIC_RACE', 'CMPLNT_FR_DT', 'ADDR_PCT_CD', 'JURISDICTION_CODE', 'PD_CD', 'PD_DESC', 'PATROL_BORO', 'BORO_NM', 'Lat_Lon', 'Latitude', 'Longitude', 'X_COORD_CD', 'Y_COORD_CD', 'OFNS_DESC', 'PREM_TYP_DESC', 'HOUSING_PSA', 'LOC_OF_OCCUR_DESC', 'VIC_AGE_GROUP', 'CMPLNT_TO_TM', 'CMPLNT_TO_DT', 'PARKS_NM', 'SUSP_RACE', 'SUSP_SEX', 'SUSP_AGE_GROUP', 'HADEVELOPT', 'STATION_NAME', 'TRANSIT_DISTRICT']\n"
     ]
    }
   ],
   "source": [
    "cols_sort=[cols for _, cols in sorted(zip(blank_vals, cols))]\n",
    "print(cols_sort)"
   ]
  },
  {
   "cell_type": "code",
   "execution_count": 22,
   "metadata": {},
   "outputs": [
    {
     "data": {
      "text/plain": [
       "<matplotlib.collections.PathCollection at 0x144fb30a0>"
      ]
     },
     "execution_count": 22,
     "metadata": {},
     "output_type": "execute_result"
    },
    {
     "data": {
      "image/png": "[encoded data removed]",
      "text/plain": [
       "<Figure size 720x720 with 1 Axes>"
      ]
     },
     "metadata": {
      "needs_background": "light"
     },
     "output_type": "display_data"
    }
   ],
   "source": [
    "blank_vals=sorted(blank_vals)\n",
    "\n",
    "plt.figure(figsize=(10, 10))\n",
    "plt.title(\"Checking Empty values and deciding which attribute to drop\")\n",
    "plt.ylabel(\"Column names\")\n",
    "plt.xlabel(\"Empty Value counts (in Millions)\")\n",
    "plt.scatter(blank_vals, cols_sort,color=['r'])"
   ]
  },
  {
   "cell_type": "markdown",
   "metadata": {},
   "source": [
    "We are getting dates with the most complains"
   ]
  },
  {
   "cell_type": "code",
   "execution_count": 23,
   "metadata": {},
   "outputs": [],
   "source": [
    "#We are getting dates with the most complains\n",
    "Freq_dates=profiles.column('CMPLNT_FR_DT').get('topValues')"
   ]
  },
  {
   "cell_type": "code",
   "execution_count": 24,
   "metadata": {},
   "outputs": [
    {
     "data": {
      "text/plain": [
       "<BarContainer object of 10 artists>"
      ]
     },
     "execution_count": 24,
     "metadata": {},
     "output_type": "execute_result"
    },
    {
     "data": {
      "image/png": "[encoded data removed]",
      "text/plain": [
       "<Figure size 1440x360 with 1 Axes>"
      ]
     },
     "metadata": {
      "needs_background": "light"
     },
     "output_type": "display_data"
    }
   ],
   "source": [
    "x=[]\n",
    "y=[]\n",
    "for i,j in Freq_dates:\n",
    "  x.append(i)\n",
    "  y.append(j)\n",
    "\n",
    "plt.figure(figsize=(20, 5))\n",
    "plt.xlabel(\"Dates\")\n",
    "plt.ylabel(\"Crime Count\")\n",
    "plt.title('TOP DATES WHEN VIOLENCE OCCURS')\n",
    "plt.bar(x, y, width=0.5,color=['r'])"
   ]
  },
  {
   "cell_type": "markdown",
   "metadata": {},
   "source": [
    "Most Frequent Time In A Day when violence occurs"
   ]
  },
  {
   "cell_type": "code",
   "execution_count": 25,
   "metadata": {},
   "outputs": [],
   "source": [
    "#We are getting the time when most complaint are reported\n",
    "Freq_time=profiles.column('CMPLNT_FR_TM').get('topValues')"
   ]
  },
  {
   "cell_type": "code",
   "execution_count": 26,
   "metadata": {},
   "outputs": [
    {
     "data": {
      "text/plain": [
       "<BarContainer object of 10 artists>"
      ]
     },
     "execution_count": 26,
     "metadata": {},
     "output_type": "execute_result"
    },
    {
     "data": {
      "image/png": "[encoded data removed]",
      "text/plain": [
       "<Figure size 720x360 with 1 Axes>"
      ]
     },
     "metadata": {
      "needs_background": "light"
     },
     "output_type": "display_data"
    }
   ],
   "source": [
    "x=[]\n",
    "y=[]\n",
    "for i,j in Freq_time:\n",
    "  x.append(i)\n",
    "  y.append(j)\n",
    "\n",
    "plt.figure(figsize=(10, 5))\n",
    "plt.xlabel(\"Hour of a day\")\n",
    "plt.ylabel(\"Crime Count\")\n",
    "plt.title(' TIME IN A DAY WHEN HIGHEST VIOLENCE OCCURS')\n",
    "plt.bar(x, y, width=0.5, color=['r'])"
   ]
  },
  {
   "cell_type": "markdown",
   "metadata": {},
   "source": [
    "Suspect based on gender"
   ]
  },
  {
   "cell_type": "code",
   "execution_count": 27,
   "metadata": {},
   "outputs": [
    {
     "data": {
      "text/plain": [
       "<BarContainer object of 3 artists>"
      ]
     },
     "execution_count": 27,
     "metadata": {},
     "output_type": "execute_result"
    },
    {
     "data": {
      "image/png": "[encoded data removed]",
      "text/plain": [
       "<Figure size 720x360 with 1 Axes>"
      ]
     },
     "metadata": {
      "needs_background": "light"
     },
     "output_type": "display_data"
    }
   ],
   "source": [
    "Suspect_gender=profiles.column('SUSP_SEX').get('topValues')\n",
    "\n",
    "x=[]\n",
    "y=[]\n",
    "for i,j in Suspect_gender:\n",
    "  x.append(i)\n",
    "  y.append(j)\n",
    "\n",
    "plt.figure(figsize=(10, 5))\n",
    "plt.xlabel(\"Gender\")\n",
    "plt.ylabel(\"Crime Count in Millions\")\n",
    "plt.title('Suspect Sex Wise')\n",
    "plt.bar(x, y, width=0.5, color=['y'])"
   ]
  },
  {
   "cell_type": "markdown",
   "metadata": {},
   "source": [
    "Victim based on gender"
   ]
  },
  {
   "cell_type": "code",
   "execution_count": 28,
   "metadata": {},
   "outputs": [
    {
     "data": {
      "text/plain": [
       "<BarContainer object of 4 artists>"
      ]
     },
     "execution_count": 28,
     "metadata": {},
     "output_type": "execute_result"
    },
    {
     "data": {
      "image/png": "[encoded data removed]",
      "text/plain": [
       "<Figure size 720x360 with 1 Axes>"
      ]
     },
     "metadata": {
      "needs_background": "light"
     },
     "output_type": "display_data"
    }
   ],
   "source": [
    "Victims_gender=profiles.column('VIC_SEX').get('topValues')\n",
    "\n",
    "x=[]\n",
    "y=[]\n",
    "for i,j in Victims_gender:\n",
    "  if(i!='U'):\n",
    "    x.append(i)\n",
    "    y.append(j)\n",
    "\n",
    "plt.figure(figsize=(10, 5))\n",
    "plt.xlabel(\"Gender\")\n",
    "plt.ylabel(\"Crime Count in Millions\")\n",
    "plt.title('Victims Sex Wise')\n",
    "plt.bar(x, y, width=0.5, color=['k'])"
   ]
  },
  {
   "cell_type": "markdown",
   "metadata": {},
   "source": [
    "Victims Age Group "
   ]
  },
  {
   "cell_type": "code",
   "execution_count": 29,
   "metadata": {},
   "outputs": [
    {
     "data": {
      "text/plain": [
       "<BarContainer object of 6 artists>"
      ]
     },
     "execution_count": 29,
     "metadata": {},
     "output_type": "execute_result"
    },
    {
     "data": {
      "image/png": "[encoded data removed]",
      "text/plain": [
       "<Figure size 720x360 with 1 Axes>"
      ]
     },
     "metadata": {
      "needs_background": "light"
     },
     "output_type": "display_data"
    }
   ],
   "source": [
    "Victims_age=profiles.column('VIC_AGE_GROUP').get('topValues')\n",
    "\n",
    "x=[]\n",
    "y=[]\n",
    "for i,j in Victims_age:\n",
    "        if(j>20):\n",
    "                x.append(i)\n",
    "                y.append(j)\n",
    "\n",
    "plt.figure(figsize=(10, 5))\n",
    "plt.xlabel(\"Age\")\n",
    "plt.ylabel(\"Crime Count in Millions\")\n",
    "plt.title('Victims Age Wise')\n",
    "plt.bar(x, y, width=0.5)"
   ]
  },
  {
   "cell_type": "markdown",
   "metadata": {},
   "source": [
    "Suspect Age Group"
   ]
  },
  {
   "cell_type": "code",
   "execution_count": 30,
   "metadata": {},
   "outputs": [
    {
     "data": {
      "text/plain": [
       "<BarContainer object of 6 artists>"
      ]
     },
     "execution_count": 30,
     "metadata": {},
     "output_type": "execute_result"
    },
    {
     "data": {
      "image/png": "[encoded data removed]",
      "text/plain": [
       "<Figure size 720x360 with 1 Axes>"
      ]
     },
     "metadata": {
      "needs_background": "light"
     },
     "output_type": "display_data"
    }
   ],
   "source": [
    "Suspect_age=profiles.column('SUSP_AGE_GROUP').get('topValues')\n",
    "\n",
    "x=[]\n",
    "y=[]\n",
    "for i,j in Suspect_age:\n",
    "    if(j>20):\n",
    "         x.append(i)\n",
    "         y.append(j)\n",
    "\n",
    "plt.figure(figsize=(10, 5))\n",
    "plt.xlabel(\"Age\")\n",
    "plt.ylabel(\"Crime Count in Millions\")\n",
    "plt.title('Suspect Age Wise')\n",
    "plt.bar(x, y, width=0.5, color=['k'])"
   ]
  },
  {
   "cell_type": "markdown",
   "metadata": {},
   "source": [
    "Suspect RACE        "
   ]
  },
  {
   "cell_type": "code",
   "execution_count": 31,
   "metadata": {},
   "outputs": [
    {
     "data": {
      "text/plain": [
       "<BarContainer object of 8 artists>"
      ]
     },
     "execution_count": 31,
     "metadata": {},
     "output_type": "execute_result"
    },
    {
     "data": {
      "image/png": "[encoded data removed]",
      "text/plain": [
       "<Figure size 1800x360 with 1 Axes>"
      ]
     },
     "metadata": {
      "needs_background": "light"
     },
     "output_type": "display_data"
    }
   ],
   "source": [
    "Suspect_Race=profiles.column('SUSP_RACE').get('topValues')\n",
    "\n",
    "x=[]\n",
    "y=[]\n",
    "for i,j in Suspect_Race:\n",
    "    x.append(i)\n",
    "    y.append(j)\n",
    "\n",
    "plt.figure(figsize=(25, 5))\n",
    "plt.xlabel(\"Age\")\n",
    "plt.ylabel(\"Crime Count in Millions\")\n",
    "plt.title('Suspect Age Wise')\n",
    "plt.bar(x, y, width=0.5, color=['r'])"
   ]
  },
  {
   "cell_type": "markdown",
   "metadata": {},
   "source": [
    "Victim Race"
   ]
  },
  {
   "cell_type": "code",
   "execution_count": 32,
   "metadata": {},
   "outputs": [
    {
     "data": {
      "text/plain": [
       "<BarContainer object of 8 artists>"
      ]
     },
     "execution_count": 32,
     "metadata": {},
     "output_type": "execute_result"
    },
    {
     "data": {
      "image/png": "[encoded data removed]",
      "text/plain": [
       "<Figure size 1800x360 with 1 Axes>"
      ]
     },
     "metadata": {
      "needs_background": "light"
     },
     "output_type": "display_data"
    }
   ],
   "source": [
    "Victim_Race=profiles.column('VIC_RACE').get('topValues')\n",
    "\n",
    "x=[]\n",
    "y=[]\n",
    "for i,j in Victim_Race:\n",
    "    x.append(i)\n",
    "    y.append(j)\n",
    "\n",
    "plt.figure(figsize=(25, 5))\n",
    "plt.xlabel(\"Race\")\n",
    "plt.ylabel(\"Crime Count in Millions\")\n",
    "plt.title('Vicitm Race Wise')\n",
    "plt.bar(x, y, width=0.5, color=['m'])"
   ]
  },
  {
   "cell_type": "markdown",
   "metadata": {},
   "source": [
    "Borough with the highest crimes"
   ]
  },
  {
   "cell_type": "code",
   "execution_count": 33,
   "metadata": {},
   "outputs": [
    {
     "data": {
      "text/plain": [
       "<BarContainer object of 5 artists>"
      ]
     },
     "execution_count": 33,
     "metadata": {},
     "output_type": "execute_result"
    },
    {
     "data": {
      "image/png": "[encoded data removed]",
      "text/plain": [
       "<Figure size 720x360 with 1 Axes>"
      ]
     },
     "metadata": {
      "needs_background": "light"
     },
     "output_type": "display_data"
    }
   ],
   "source": [
    "top_boro=profiles.column('BORO_NM').get('topValues')\n",
    "\n",
    "x=[]\n",
    "y=[]\n",
    "for i,j in top_boro:\n",
    "  x.append(i)\n",
    "  y.append(j)\n",
    "\n",
    "plt.figure(figsize=(10, 5))\n",
    "plt.xlabel(\"NYC Boroughs\")\n",
    "plt.ylabel(\"Crime Count in Millions\")\n",
    "plt.title('Borough Wise comparision of Crime at NYC')\n",
    "plt.bar(x, y, width=0.5, color=['g'])"
   ]
  },
  {
   "cell_type": "markdown",
   "metadata": {},
   "source": [
    "Top violence places in NYC"
   ]
  },
  {
   "cell_type": "code",
   "execution_count": 34,
   "metadata": {},
   "outputs": [],
   "source": [
    "lats=profiles.column('Latitude').get('topValues')\n",
    "lgts=profiles.column('Longitude').get('topValues')\n",
    "\n",
    "lats_=[float(i[0]) for i in lats]\n",
    "lgts_=[float(i[0]) for i in lgts]\n",
    "\n",
    "latcount=[i[1] for i in lats]\n",
    "longcount=[i[1] for i in lats]\n",
    "\n",
    "final_latitudes=[]\n",
    "final_longitudes=[]\n",
    "for c in range(len(latcount)):\n",
    "  t1=[lats_[c]]*latcount[c]\n",
    "  t2=[lgts_[c]]*longcount[c]\n",
    "  final_latitudes+=t1\n",
    "  final_longitudes+=t2"
   ]
  },
  {
   "cell_type": "code",
   "execution_count": 35,
   "metadata": {},
   "outputs": [
    {
     "name": "stderr",
     "output_type": "stream",
     "text": [
      "/opt/homebrew/Caskroom/miniforge/base/envs/pysparkenv/lib/python3.10/site-packages/pyproj/crs/crs.py:130: FutureWarning: '+init=<authority>:<code>' syntax is deprecated. '<authority>:<code>' is the preferred initialization method. When making the change, be mindful of axis order changes: https://pyproj4.github.io/pyproj/stable/gotchas.html#axis-order-changes-in-proj-6\n",
      "  in_crs_string = _prepare_from_proj_string(in_crs_string)\n"
     ]
    },
    {
     "data": {
      "text/plain": [
       "Text(0.5, 1.0, 'Top violence places for NYC')"
      ]
     },
     "execution_count": 35,
     "metadata": {},
     "output_type": "execute_result"
    },
    {
     "data": {
      "image/png": "[encoded data removed]",
      "text/plain": [
       "<Figure size 720x720 with 1 Axes>"
      ]
     },
     "metadata": {
      "needs_background": "light"
     },
     "output_type": "display_data"
    }
   ],
   "source": [
    "cleaned_dataset=pd.DataFrame()\n",
    "cleaned_dataset['Latitude']=final_latitudes\n",
    "cleaned_dataset['Longitude']=final_longitudes\n",
    "\n",
    "NYC_map = gpd.read_file('/Users/hrushipatel/Desktop/BoroughBoundaries/geo_export_2b9c26b9-b3a0-4d97-a52c-ff91e9b6ddc1.shp')\n",
    "\n",
    "crs = {'init':'EPSG:4326'}\n",
    "cleaned_dataset = gpd.GeoDataFrame(cleaned_dataset, crs = crs,geometry=gpd.points_from_xy(cleaned_dataset['Longitude'], cleaned_dataset['Latitude']))\n",
    "\n",
    "fig, ax = plt.subplots(figsize = (10,10))\n",
    "NYC_map.to_crs(epsg=4326).plot(ax=ax, color='lightgrey')\n",
    "cleaned_dataset.plot(ax=ax, alpha = .1 ,color='red')\n",
    "ax.set_title('Top violence places for NYC')"
   ]
  }
 ],
 "metadata": {
  "interpreter": {
   "hash": "a5442753934210be337396378d86d8d828fe29817ced1de0b536b423ff9f876e"
  },
  "kernelspec": {
   "display_name": "Python 3.10.4 ('pysparkenv')",
   "language": "python",
   "name": "python3"
  },
  "language_info": {
   "codemirror_mode": {
    "name": "ipython",
    "version": 3
   },
   "file_extension": ".py",
   "mimetype": "text/x-python",
   "name": "python",
   "nbconvert_exporter": "python",
   "pygments_lexer": "ipython3",
   "version": "3.10.4"
  },
  "orig_nbformat": 4
 },
 "nbformat": 4,
 "nbformat_minor": 2
}
